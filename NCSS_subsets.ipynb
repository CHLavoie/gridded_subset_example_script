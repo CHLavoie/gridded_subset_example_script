{
 "cells": [
  {
   "cell_type": "markdown",
   "metadata": {},
   "source": [
    "# Batch Subset and Download of Gridded netCDF Data - Daymet Example\n",
    "***"
   ]
  },
  {
   "cell_type": "markdown",
   "metadata": {},
   "source": [
    "Author:  ORNL DAAC<br>\n",
    "Date:  November 5, 2018<br>\n",
    "Contact for ORNL DAAC:  uso@daac.ornl.gov\n",
    "\n",
    "#### Keywords:  web service, netCDF, RESTful API, Daymet, THREDDS, NCSS\n",
    "\n",
    "###  Overview  \n",
    "***\n",
    "Example bash scripts are provided that automate spatial and/or temporal subsetting and download of netCDF files within a bounding box of longitude and latitude. This example queries Daymet daily gridded data.  This capability is available through a THREDDS Data Server with an integrated NetCDF Subset Service (NCSS) using a RESTful API.  Interactive requests can be automated through programmatic, machine-to-machine requests which involve the construction and submission of an HTTP request to the THREDDS data server through an extended URL with defined parameters.  Further automation is possible with a downloading agent such as Wget.  Subsets are returned in CF-compliant netCDF formats. <br>\n",
    "<img src=\"NCSS_GSMNP_LCCboundingbox_withMinimumBoundingGeometry.png\" alt=\"Drawing\" style=\"width: 400px;\"/>\n",
    "\n",
    "### Source Data\n",
    "***  \n",
    "\n",
    "-  **North American Daymet Files:**  https://thredds.daac.ornl.gov/thredds/catalog/ornldaac/1328/catalog.html\n",
    "-  **All Daymet Data in THREDDS:** https://thredds.daac.ornl.gov/thredds/catalogs/ornldaac/Regional_and_Global_Data/DAYMET_COLLECTIONS/DAYMET_COLLECTIONS.html\n",
    "\n",
    "-  **Daymet Web Site:**  https://daymet.ornl.gov/\n",
    "\n",
    "-  **ORNL DAAC THREDDS Datasets:**  https://thredds.daac.ornl.gov/thredds/catalog.html\n",
    "\n",
    "#### Additional Information:\n",
    "Documentation of UNIDATA's netCDF Subset Service: https://www.unidata.ucar.edu/software/thredds/current/tds/reference/NetcdfSubsetServiceReference.html\n",
    "\n",
    "### Prerequisites\n",
    "***\n",
    "A download client such as Wget or cURL is required\n"
   ]
  },
  {
   "cell_type": "markdown",
   "metadata": {},
   "source": [
    "### Procedure\n",
    "***\n",
    "Download or copy the NCSS bash script of interest into a text editor\n",
    "\n",
    "#### Example Usage\n",
    "1. Download the shell script\n",
    "2. Open the file in a text editor and update the variables as directed in the header\n",
    "3. If necessary, update the download client to your specifications\n",
    "3. Save and Run the script.  Generally this is done command line by entering, for example, \"./NCSS_subset_fullyear.sh\""
   ]
  },
  {
   "cell_type": "markdown",
   "metadata": {},
   "source": [
    "**Download Size Limits**\n",
    "- The current Daymet NCSS has a size limit of 6GB for each single subset request. NCSS subset requests that result in data - exceeding this size limit will return an error message, instead of the actual subset data."
   ]
  },
  {
   "cell_type": "markdown",
   "metadata": {},
   "source": [
    "## Understanding the NCSS REST API \n",
    "***"
   ]
  },
  {
   "cell_type": "markdown",
   "metadata": {},
   "source": [
    "Visit the <a href=\"https://daymet.ornl.gov/web_services\"> Web Services</a> page for further description of THREDDS, the NCSS GUI, and an explanation of bounding box results."
   ]
  },
  {
   "cell_type": "markdown",
   "metadata": {},
   "source": [
    "### In general, all Daymet data granules available through the NCSS follow this URL pattern:\n",
    "<div class=\"alert alert-block alert-info\">\n",
    "https://thredds.daac.ornl.gov/thredds/ncss/grid/ornldaac/1328/[YEAR]/daymet_v3_[DAYMETVAR]_[YEAR]_[region].nc4\n",
    "</div>\n",
    "\n",
    "***Where*** <br>\n",
    "DAYMETVAR is:\n",
    "\n",
    "| Variable | Description (units)                           \n",
    "|:---------|:---------------------------------------:|\n",
    "| tmax     | Daily maximum 2-meter air temperature (°C)\n",
    "| tmin     | Daily minimum 2-meter air temperature (°C)\n",
    "| prcp     | Daily total precipitation (mm/day)\n",
    "| srad     | Incident shortwave radiation flux density (W/m2)\n",
    "| vp       | Water vapor pressure (Pa)\n",
    "| swe      | Snow water equivalent (kg/m2)\n",
    "| dayl     | Duration of the daylight period (seconds/day)\n",
    "\n",
    "YEAR is:<br>\n",
    "-  1980 - most recent full calendar year\n",
    "\n",
    "region is: <br>\n",
    "-  na (North America)\n",
    "\n",
    "### A full URL standard request from the NCCS service will involve the following parameters:\n",
    "<div class=\"alert alert-block alert-info\">\n",
    "https://thredds.daac.ornl.gov/thredds/ncss/ornldaac/1328/1988/daymet_v3_[DAYMETVAR]_[YEAR]_[region].nc4?var=lat&var=lon&var=tmin&north=&west=&east=9&south=&disableProjSubset=on&horizStride=1&time_start=Z&time_end=&timeStride=&accept=netcdf\n",
    "</div>\n",
    "\n",
    "***Where*** <br>\n",
    "Parameters are:\n",
    "\n",
    "| Parameter | Description                           \n",
    "|:---------|:---------------------------------------:|\n",
    "| north    | The northern extent of the bounding box (latitude in decimal degrees) of the subset\n",
    "| west     | The western extent of the bounding box (longitude in decimal degrees) of the subset\n",
    "| east     | The eastern extent of the bounding box (longitude in decimal degrees) of the subset\n",
    "| south    | The southern extent of the bounding box (latitude in decimal degrees) of the subset\n",
    "| horizStride | Will take every nth point (in both x and Y) of the gridded dataset. The default, \"1\", will take every point\n",
    "| time_start      | The beginning of the time range. Specify a time range subset in the form: yyyy '-' mm '-' dd 'T' hh ':' mm ':' ss Z\n",
    "| time_end     | The end of the time range. Specify a time range subset in the form: yyyy '-' mm '-' dd 'T' hh ':' mm ':' ss Z\n",
    "|timeStride|  Will take only every nth time in the available series on gridded datasets. The default, \"1\", will take every time step\n",
    "| accept     |The format of the subset data returned by the NCSS: \"netcdf\" for netCDF v3 format is the only option currently available"
   ]
  }
 ],
 "metadata": {
  "kernelspec": {
   "display_name": "Python 3",
   "language": "python",
   "name": "python3"
  },
  "language_info": {
   "codemirror_mode": {
    "name": "ipython",
    "version": 3
   },
   "file_extension": ".py",
   "mimetype": "text/x-python",
   "name": "python",
   "nbconvert_exporter": "python",
   "pygments_lexer": "ipython3",
   "version": "3.6.3"
  }
 },
 "nbformat": 4,
 "nbformat_minor": 2
}
